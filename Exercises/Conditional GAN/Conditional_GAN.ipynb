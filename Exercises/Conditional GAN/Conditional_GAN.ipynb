{
 "cells": [
  {
   "cell_type": "code",
   "execution_count": 1,
   "metadata": {},
   "outputs": [],
   "source": [
    "import os\n",
    "os.environ['TF_CPP_MIN_LOG_LEVEL'] = '3'\n",
    "\n",
    "from tensorflow import keras\n",
    "from tensorflow.keras import layers\n",
    "\n",
    "import numpy as np\n",
    "import matplotlib.pyplot as plt\n",
    "import tensorflow as tf"
   ]
  },
  {
   "cell_type": "code",
   "execution_count": 2,
   "metadata": {},
   "outputs": [],
   "source": [
    "batch_size = 64\n",
    "num_channels = 1\n",
    "num_classes = 10\n",
    "image_size = 28\n",
    "latent_dim = 128"
   ]
  },
  {
   "cell_type": "code",
   "execution_count": 3,
   "metadata": {},
   "outputs": [
    {
     "name": "stdout",
     "output_type": "stream",
     "text": [
      "Shape of training images: (70000, 28, 28, 1)\n",
      "Shape of training labels: (70000, 10)\n"
     ]
    }
   ],
   "source": [
    "(x_train, y_train), (x_test, y_test) = keras.datasets.mnist.load_data()\n",
    "all_digits = np.concatenate([x_train, x_test])\n",
    "all_labels = np.concatenate([y_train, y_test])\n",
    "\n",
    "# Normalize data\n",
    "all_digits = all_digits.astype(\"float32\") / 255.0\n",
    "# Add a channel dimension\n",
    "all_digits = np.reshape(all_digits, (-1, image_size, image_size, 1))\n",
    "all_labels = keras.utils.to_categorical(all_labels, num_classes)\n",
    "\n",
    "\n",
    "dataset = tf.data.Dataset.from_tensor_slices((all_digits, all_labels))\n",
    "dataset = dataset.shuffle(buffer_size=1024).batch(batch_size)\n",
    "\n",
    "print(f\"Shape of training images: {all_digits.shape}\")\n",
    "print(f\"Shape of training labels: {all_labels.shape}\")"
   ]
  },
  {
   "cell_type": "code",
   "execution_count": 4,
   "metadata": {},
   "outputs": [
    {
     "name": "stdout",
     "output_type": "stream",
     "text": [
      "Generator input channels: 138\n",
      "Discriminator input channels: 11\n"
     ]
    }
   ],
   "source": [
    "generator_in_channels = latent_dim + num_classes # number of input channels for generator\n",
    "discriminator_in_channels = num_channels + num_classes # number of input channels for discriminator\n",
    "\n",
    "print(f\"Generator input channels: {generator_in_channels}\")\n",
    "print(f\"Discriminator input channels: {discriminator_in_channels}\")"
   ]
  },
  {
   "cell_type": "code",
   "execution_count": 5,
   "metadata": {},
   "outputs": [],
   "source": [
    "discriminator = keras.Sequential(\n",
    "    [\n",
    "        keras.layers.InputLayer((28,28,discriminator_in_channels)),\n",
    "        keras.layers.Conv2D(64, kernel_size=(3,3), strides=(2,2), padding='same'),\n",
    "        keras.layers.LeakyReLU(alpha=0.2),\n",
    "        keras.layers.Conv2D(128, kernel_size=(3,3), strides=(2,2), padding='same'),\n",
    "        keras.layers.LeakyReLU(alpha=0.2),\n",
    "        keras.layers.GlobalMaxPooling2D(),\n",
    "        keras.layers.Dense(1),\n",
    "    ],\n",
    "    name=\"discriminator\",\n",
    ")"
   ]
  },
  {
   "cell_type": "code",
   "execution_count": 6,
   "metadata": {},
   "outputs": [],
   "source": [
    "generator = keras.Sequential(\n",
    "    [\n",
    "        keras.layers.InputLayer((generator_in_channels,)),\n",
    "        keras.layers.Dense(7 * 7 * generator_in_channels),\n",
    "        keras.layers.LeakyReLU(alpha=0.2),\n",
    "        keras.layers.Reshape((7, 7, generator_in_channels)),\n",
    "        keras.layers.Conv2DTranspose(128, kernel_size=(4,4), strides=(2,2), padding='same'),\n",
    "        keras.layers.LeakyReLU(alpha=0.2),\n",
    "        keras.layers.Conv2DTranspose(128, kernel_size=(4,4), strides=(2,2), padding='same'),\n",
    "        keras.layers.LeakyReLU(alpha=0.2),\n",
    "        keras.layers.Conv2D(1, kernel_size=(7,7), padding='same', activation='sigmoid'),\n",
    "    ],\n",
    "    name=\"generator\",\n",
    ")"
   ]
  },
  {
   "cell_type": "code",
   "execution_count": 9,
   "metadata": {},
   "outputs": [],
   "source": [
    "class CGAN(keras.Model):\n",
    "    def __init__(self, discriminator, generator, latent_dim):\n",
    "        super().__init__()\n",
    "        self.discriminator = discriminator\n",
    "        self.generator = generator\n",
    "        self.latent_dim = latent_dim\n",
    "        self.gen_loss_tracker = keras.metrics.Mean(name=\"generator_loss\")\n",
    "        self.disc_loss_tracker = keras.metrics.Mean(name=\"discriminator_loss\")\n",
    "\n",
    "    @property\n",
    "    def metrics(self):\n",
    "        return [self.gen_loss_tracker, self.disc_loss_tracker]\n",
    "\n",
    "    def compile(self, d_optimizer, g_optimizer, loss_fn):\n",
    "        super().compile()\n",
    "        self.d_optimizer = d_optimizer\n",
    "        self.g_optimizer = g_optimizer\n",
    "        self.loss_fn = loss_fn\n",
    "    \n",
    "    def train_step(self, data):\n",
    "        real_images, one_hot_labels = data\n",
    "\n",
    "        image_one_hot_labels = one_hot_labels[:,:,None,None]\n",
    "        image_one_hot_labels = tf.repeat(image_one_hot_labels, repeats=[image_size*image_size])\n",
    "        image_one_hot_labels = tf.reshape(image_one_hot_labels, (-1, image_size, image_size, num_classes))\n",
    "\n",
    "        batch_size = tf.shape(real_images)[0]\n",
    "        random_latent_vectors = tf.random.normal(shape=(batch_size, self.latent_dim))\n",
    "        random_latent_vectors = tf.concat([random_latent_vectors, one_hot_labels], axis=-1)\n",
    "\n",
    "        generated_images = self.generator(random_latent_vectors)\n",
    "\n",
    "        fake_image_and_labels = tf.concat([generated_images, image_one_hot_labels], axis=-1)\n",
    "        real_image_and_labels = tf.concat([real_images, image_one_hot_labels], axis=-1)\n",
    "\n",
    "        combined_images = tf.concat([fake_image_and_labels, real_image_and_labels], axis=0)\n",
    "\n",
    "        labels = tf.concat([tf.ones((batch_size, 1)), tf.zeros((batch_size, 1))], axis=0)\n",
    "\n",
    "        with tf.GradientTape() as tape:\n",
    "            predictions = self.discriminator(combined_images)\n",
    "            d_loss = self.loss_fn(labels, predictions)\n",
    "        \n",
    "        grads = tape.gradient(d_loss, self.discriminator.trainable_weights)\n",
    "        self.d_optimizer.apply_gradients(zip(grads, self.discriminator.trainable_weights))\n",
    "\n",
    "        random_latent_vectors = tf.random.normal(shape=(batch_size, self.latent_dim))\n",
    "        random_vector_labels = tf.concat([random_latent_vectors, one_hot_labels], axis=-1)\n",
    "\n",
    "        misleading_labels = tf.zeros((batch_size, 1))\n",
    "\n",
    "        with tf.GradientTape() as tape:\n",
    "            fake_images = self.generator(random_vector_labels)\n",
    "            fake_image_and_labels = tf.concat([fake_images, image_one_hot_labels], axis=-1)\n",
    "            predictions = self.discriminator(fake_image_and_labels)\n",
    "            g_loss = self.loss_fn(misleading_labels, predictions)\n",
    "        grads = tape.gradient(g_loss, self.generator.trainable_weights)\n",
    "        self.g_optimizer.apply_gradients(zip(grads, self.generator.trainable_weights))\n",
    "\n",
    "        self.gen_loss_tracker.update_state(g_loss)\n",
    "        self.disc_loss_tracker.update_state(d_loss)\n",
    "\n",
    "        return {\"g_loss\": self.gen_loss_tracker.result(), \"d_loss\": self.disc_loss_tracker.result()}\n"
   ]
  },
  {
   "cell_type": "code",
   "execution_count": 12,
   "metadata": {},
   "outputs": [
    {
     "name": "stdout",
     "output_type": "stream",
     "text": [
      "Epoch 1/20\n",
      "1094/1094 [==============================] - 87s 68ms/step - g_loss: 1.3474 - d_loss: 0.4557\n",
      "Epoch 2/20\n",
      "1094/1094 [==============================] - 73s 67ms/step - g_loss: 1.3365 - d_loss: 0.4836\n",
      "Epoch 3/20\n",
      "1094/1094 [==============================] - 72s 66ms/step - g_loss: 1.4885 - d_loss: 0.4282\n",
      "Epoch 4/20\n",
      "1094/1094 [==============================] - 73s 67ms/step - g_loss: 2.0922 - d_loss: 0.2491\n",
      "Epoch 5/20\n",
      "1094/1094 [==============================] - 74s 67ms/step - g_loss: 1.9443 - d_loss: 0.3596\n",
      "Epoch 6/20\n",
      "1094/1094 [==============================] - 73s 67ms/step - g_loss: 0.9428 - d_loss: 0.6477\n",
      "Epoch 7/20\n",
      "1094/1094 [==============================] - 73s 67ms/step - g_loss: 0.8621 - d_loss: 0.6666\n",
      "Epoch 8/20\n",
      "1094/1094 [==============================] - 73s 66ms/step - g_loss: 0.8079 - d_loss: 0.6829\n",
      "Epoch 9/20\n",
      "1094/1094 [==============================] - 72s 66ms/step - g_loss: 0.7699 - d_loss: 0.6893\n",
      "Epoch 10/20\n",
      "1094/1094 [==============================] - 73s 66ms/step - g_loss: 0.7553 - d_loss: 0.6901\n",
      "Epoch 11/20\n",
      "1094/1094 [==============================] - 72s 66ms/step - g_loss: 0.7576 - d_loss: 0.6880\n",
      "Epoch 12/20\n",
      "1094/1094 [==============================] - 73s 67ms/step - g_loss: 0.7352 - d_loss: 0.6919\n",
      "Epoch 13/20\n",
      "1094/1094 [==============================] - 73s 67ms/step - g_loss: 0.7317 - d_loss: 0.6869\n",
      "Epoch 14/20\n",
      "1094/1094 [==============================] - 72s 66ms/step - g_loss: 0.7412 - d_loss: 0.6866\n",
      "Epoch 15/20\n",
      "1094/1094 [==============================] - 73s 67ms/step - g_loss: 0.7297 - d_loss: 0.6869\n",
      "Epoch 16/20\n",
      "1094/1094 [==============================] - 73s 66ms/step - g_loss: 0.7366 - d_loss: 0.6825\n",
      "Epoch 17/20\n",
      "1094/1094 [==============================] - 73s 67ms/step - g_loss: 0.7404 - d_loss: 0.6818\n",
      "Epoch 18/20\n",
      "1094/1094 [==============================] - 73s 66ms/step - g_loss: 0.7420 - d_loss: 0.6769\n",
      "Epoch 19/20\n",
      "1094/1094 [==============================] - 73s 67ms/step - g_loss: 0.7520 - d_loss: 0.6733\n",
      "Epoch 20/20\n",
      "1094/1094 [==============================] - 73s 67ms/step - g_loss: 0.7661 - d_loss: 0.6656\n"
     ]
    },
    {
     "data": {
      "text/plain": [
       "<keras.callbacks.History at 0x7f2ef032f400>"
      ]
     },
     "execution_count": 12,
     "metadata": {},
     "output_type": "execute_result"
    }
   ],
   "source": [
    "cgan = CGAN(discriminator=discriminator, generator=generator, latent_dim=latent_dim)\n",
    "\n",
    "cgan.compile(\n",
    "    d_optimizer=keras.optimizers.Adam(learning_rate=0.0003),\n",
    "    g_optimizer=keras.optimizers.Adam(learning_rate=0.0003),\n",
    "    loss_fn=keras.losses.BinaryCrossentropy(from_logits=True),\n",
    ")\n",
    "\n",
    "cgan.fit(dataset, epochs=20)"
   ]
  },
  {
   "cell_type": "code",
   "execution_count": 17,
   "metadata": {},
   "outputs": [
    {
     "data": {
      "image/png": "[encoded data removed]",
      "text/plain": [
       "<Figure size 1000x400 with 10 Axes>"
      ]
     },
     "metadata": {},
     "output_type": "display_data"
    }
   ],
   "source": [
    "num_samples = 10\n",
    "trained_generator = cgan.generator\n",
    "\n",
    "random_latent_vectors = tf.random.normal(shape=(num_samples, latent_dim))\n",
    "labels = tf.one_hot([0,1,2,3,4,5,6,7,8,9], num_classes)\n",
    "\n",
    "random_latent_vectors = tf.concat([random_latent_vectors, labels], axis=-1)\n",
    "\n",
    "generated_images = trained_generator(random_latent_vectors)\n",
    "\n",
    "# plot in a grid 2x5\n",
    "fig = plt.figure(figsize=(10,4))\n",
    "for i in range(num_samples):\n",
    "    plt.subplot(2, 5, i+1)\n",
    "    plt.imshow(generated_images[i, :, :, 0], cmap='gray')\n",
    "    plt.axis('off')\n",
    "plt.show()"
   ]
  }
 ],
 "metadata": {
  "kernelspec": {
   "display_name": "Python 3",
   "language": "python",
   "name": "python3"
  },
  "language_info": {
   "codemirror_mode": {
    "name": "ipython",
    "version": 3
   },
   "file_extension": ".py",
   "mimetype": "text/x-python",
   "name": "python",
   "nbconvert_exporter": "python",
   "pygments_lexer": "ipython3",
   "version": "3.10.6"
  },
  "orig_nbformat": 4
 },
 "nbformat": 4,
 "nbformat_minor": 2
}
