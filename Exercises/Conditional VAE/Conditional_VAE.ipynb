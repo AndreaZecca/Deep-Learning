{
 "cells": [
  {
   "cell_type": "code",
   "execution_count": 1,
   "metadata": {},
   "outputs": [
    {
     "name": "stderr",
     "output_type": "stream",
     "text": [
      "2023-05-19 22:59:46.393923: I tensorflow/core/platform/cpu_feature_guard.cc:182] This TensorFlow binary is optimized to use available CPU instructions in performance-critical operations.\n",
      "To enable the following instructions: AVX2 FMA, in other operations, rebuild TensorFlow with the appropriate compiler flags.\n",
      "2023-05-19 22:59:48.129863: W tensorflow/compiler/tf2tensorrt/utils/py_utils.cc:38] TF-TRT Warning: Could not find TensorRT\n"
     ]
    }
   ],
   "source": [
    "import tensorflow as tf\n",
    "from tensorflow.keras import layers\n",
    "from tensorflow.keras import Model\n",
    "from tensorflow.keras import backend as K\n",
    "from tensorflow.keras import metrics\n",
    "from tensorflow.keras import utils\n",
    "from keras.datasets import mnist\n",
    "import numpy as np\n",
    "import matplotlib.pyplot as plt"
   ]
  },
  {
   "cell_type": "code",
   "execution_count": 2,
   "metadata": {},
   "outputs": [],
   "source": [
    "# train the VAE on MNIST digits\n",
    "(x_train, y_train), (x_test, y_test) = mnist.load_data()\n",
    "\n",
    "x_train = x_train.astype('float32') / 255.\n",
    "x_test = x_test.astype('float32') / 255.\n",
    "\n",
    "# augment data shape to include channel dimension\n",
    "x_train = np.reshape(x_train, (len(x_train), 28, 28, 1))\n",
    "x_test = np.reshape(x_test, (len(x_test), 28, 28, 1))\n",
    "\n",
    "y_train = utils.to_categorical(y_train)\n",
    "y_test = utils.to_categorical(y_test)"
   ]
  },
  {
   "cell_type": "code",
   "execution_count": 3,
   "metadata": {},
   "outputs": [],
   "source": [
    "def sampling(args):\n",
    "    z_mean, z_log_var = args\n",
    "    epsilon = K.random_normal(shape=(K.shape(z_mean)[0], latent_dim), mean=0.,\n",
    "                              stddev=1.)\n",
    "    return z_mean + K.exp(z_log_var / 2) * epsilon"
   ]
  },
  {
   "cell_type": "code",
   "execution_count": 4,
   "metadata": {},
   "outputs": [],
   "source": [
    "input_shape = x_train.shape[1:]\n",
    "latent_dim = 16"
   ]
  },
  {
   "cell_type": "code",
   "execution_count": 5,
   "metadata": {},
   "outputs": [
    {
     "name": "stdout",
     "output_type": "stream",
     "text": [
      "Model: \"encoder\"\n",
      "__________________________________________________________________________________________________\n",
      " Layer (type)                   Output Shape         Param #     Connected to                     \n",
      "==================================================================================================\n",
      " encoder_input (InputLayer)     [(None, 28, 28, 1)]  0           []                               \n",
      "                                                                                                  \n",
      " conv2d (Conv2D)                (None, 28, 28, 32)   320         ['encoder_input[0][0]']          \n",
      "                                                                                                  \n",
      " conv2d_1 (Conv2D)              (None, 14, 14, 64)   18496       ['conv2d[0][0]']                 \n",
      "                                                                                                  \n",
      " flatten (Flatten)              (None, 12544)        0           ['conv2d_1[0][0]']               \n",
      "                                                                                                  \n",
      " encoder_label_input (InputLaye  [(None, 10)]        0           []                               \n",
      " r)                                                                                               \n",
      "                                                                                                  \n",
      " concatenate (Concatenate)      (None, 12554)        0           ['flatten[0][0]',                \n",
      "                                                                  'encoder_label_input[0][0]']    \n",
      "                                                                                                  \n"
     ]
    },
    {
     "name": "stderr",
     "output_type": "stream",
     "text": [
      "2023-05-19 22:59:51.261407: I tensorflow/compiler/xla/stream_executor/cuda/cuda_gpu_executor.cc:996] successful NUMA node read from SysFS had negative value (-1), but there must be at least one NUMA node, so returning NUMA node zero. See more at https://github.com/torvalds/linux/blob/v6.0/Documentation/ABI/testing/sysfs-bus-pci#L344-L355\n",
      "2023-05-19 22:59:51.343342: I tensorflow/compiler/xla/stream_executor/cuda/cuda_gpu_executor.cc:996] successful NUMA node read from SysFS had negative value (-1), but there must be at least one NUMA node, so returning NUMA node zero. See more at https://github.com/torvalds/linux/blob/v6.0/Documentation/ABI/testing/sysfs-bus-pci#L344-L355\n",
      "2023-05-19 22:59:51.343667: I tensorflow/compiler/xla/stream_executor/cuda/cuda_gpu_executor.cc:996] successful NUMA node read from SysFS had negative value (-1), but there must be at least one NUMA node, so returning NUMA node zero. See more at https://github.com/torvalds/linux/blob/v6.0/Documentation/ABI/testing/sysfs-bus-pci#L344-L355\n",
      "2023-05-19 22:59:51.345474: I tensorflow/compiler/xla/stream_executor/cuda/cuda_gpu_executor.cc:996] successful NUMA node read from SysFS had negative value (-1), but there must be at least one NUMA node, so returning NUMA node zero. See more at https://github.com/torvalds/linux/blob/v6.0/Documentation/ABI/testing/sysfs-bus-pci#L344-L355\n",
      "2023-05-19 22:59:51.345971: I tensorflow/compiler/xla/stream_executor/cuda/cuda_gpu_executor.cc:996] successful NUMA node read from SysFS had negative value (-1), but there must be at least one NUMA node, so returning NUMA node zero. See more at https://github.com/torvalds/linux/blob/v6.0/Documentation/ABI/testing/sysfs-bus-pci#L344-L355\n",
      "2023-05-19 22:59:51.346228: I tensorflow/compiler/xla/stream_executor/cuda/cuda_gpu_executor.cc:996] successful NUMA node read from SysFS had negative value (-1), but there must be at least one NUMA node, so returning NUMA node zero. See more at https://github.com/torvalds/linux/blob/v6.0/Documentation/ABI/testing/sysfs-bus-pci#L344-L355\n",
      "2023-05-19 22:59:52.641405: I tensorflow/compiler/xla/stream_executor/cuda/cuda_gpu_executor.cc:996] successful NUMA node read from SysFS had negative value (-1), but there must be at least one NUMA node, so returning NUMA node zero. See more at https://github.com/torvalds/linux/blob/v6.0/Documentation/ABI/testing/sysfs-bus-pci#L344-L355\n",
      "2023-05-19 22:59:52.641691: I tensorflow/compiler/xla/stream_executor/cuda/cuda_gpu_executor.cc:996] successful NUMA node read from SysFS had negative value (-1), but there must be at least one NUMA node, so returning NUMA node zero. See more at https://github.com/torvalds/linux/blob/v6.0/Documentation/ABI/testing/sysfs-bus-pci#L344-L355\n",
      "2023-05-19 22:59:52.641916: I tensorflow/compiler/xla/stream_executor/cuda/cuda_gpu_executor.cc:996] successful NUMA node read from SysFS had negative value (-1), but there must be at least one NUMA node, so returning NUMA node zero. See more at https://github.com/torvalds/linux/blob/v6.0/Documentation/ABI/testing/sysfs-bus-pci#L344-L355\n",
      "2023-05-19 22:59:52.642313: I tensorflow/core/common_runtime/gpu/gpu_device.cc:1635] Created device /job:localhost/replica:0/task:0/device:GPU:0 with 2856 MB memory:  -> device: 0, name: NVIDIA GeForce GTX 1050, pci bus id: 0000:01:00.0, compute capability: 6.1\n"
     ]
    },
    {
     "name": "stdout",
     "output_type": "stream",
     "text": [
      " dense (Dense)                  (None, 128)          1607040     ['concatenate[0][0]']            \n",
      "                                                                                                  \n",
      " z_mean (Dense)                 (None, 16)           2064        ['dense[0][0]']                  \n",
      "                                                                                                  \n",
      " z_log_var (Dense)              (None, 16)           2064        ['dense[0][0]']                  \n",
      "                                                                                                  \n",
      "==================================================================================================\n",
      "Total params: 1,629,984\n",
      "Trainable params: 1,629,984\n",
      "Non-trainable params: 0\n",
      "__________________________________________________________________________________________________\n",
      "None\n"
     ]
    }
   ],
   "source": [
    "encoder_input = layers.Input(shape=input_shape, name='encoder_input')\n",
    "# x = layers.Flatten()(encoder_input_concat)\n",
    "encoder_label_input = layers.Input(shape=(10,), name='encoder_label_input')\n",
    "x = layers.Conv2D(32, 3, activation=\"relu\", strides=1, padding=\"same\")(encoder_input)\n",
    "x = layers.Conv2D(64, 3, activation=\"relu\", strides=2, padding=\"same\")(x)\n",
    "x = layers.Flatten()(x)\n",
    "# concatenate the label input with the flattened convolutional layer\n",
    "x = layers.concatenate([x, encoder_label_input])\n",
    "x = layers.Dense(128, activation=\"relu\")(x)\n",
    "z_mean = layers.Dense(latent_dim, name='z_mean')(x)\n",
    "z_log_var = layers.Dense(latent_dim, name='z_log_var')(x)\n",
    "\n",
    "encoder = Model([encoder_input, encoder_label_input], [z_mean, z_log_var], name='encoder')\n",
    "print(encoder.summary())\n"
   ]
  },
  {
   "cell_type": "code",
   "execution_count": 6,
   "metadata": {},
   "outputs": [],
   "source": [
    "z = layers.Lambda(sampling, output_shape=(latent_dim,))([z_mean, z_log_var])"
   ]
  },
  {
   "cell_type": "code",
   "execution_count": 7,
   "metadata": {},
   "outputs": [
    {
     "name": "stdout",
     "output_type": "stream",
     "text": [
      "Model: \"decoder\"\n",
      "__________________________________________________________________________________________________\n",
      " Layer (type)                   Output Shape         Param #     Connected to                     \n",
      "==================================================================================================\n",
      " decoder_input (InputLayer)     [(None, 16)]         0           []                               \n",
      "                                                                                                  \n",
      " decoder_label_input (InputLaye  [(None, 10)]        0           []                               \n",
      " r)                                                                                               \n",
      "                                                                                                  \n",
      " concatenate_1 (Concatenate)    (None, 26)           0           ['decoder_input[0][0]',          \n",
      "                                                                  'decoder_label_input[0][0]']    \n",
      "                                                                                                  \n",
      " dense_1 (Dense)                (None, 3136)         84672       ['concatenate_1[0][0]']          \n",
      "                                                                                                  \n",
      " reshape (Reshape)              (None, 7, 7, 64)     0           ['dense_1[0][0]']                \n",
      "                                                                                                  \n",
      " conv2d_transpose (Conv2DTransp  (None, 14, 14, 64)  36928       ['reshape[0][0]']                \n",
      " ose)                                                                                             \n",
      "                                                                                                  \n",
      " conv2d_transpose_1 (Conv2DTran  (None, 28, 28, 32)  18464       ['conv2d_transpose[0][0]']       \n",
      " spose)                                                                                           \n",
      "                                                                                                  \n",
      " conv2d_transpose_2 (Conv2DTran  (None, 28, 28, 1)   289         ['conv2d_transpose_1[0][0]']     \n",
      " spose)                                                                                           \n",
      "                                                                                                  \n",
      "==================================================================================================\n",
      "Total params: 140,353\n",
      "Trainable params: 140,353\n",
      "Non-trainable params: 0\n",
      "__________________________________________________________________________________________________\n",
      "None\n"
     ]
    }
   ],
   "source": [
    "decoder_input = layers.Input(shape=(latent_dim,), name='decoder_input')\n",
    "decoder_label_input = layers.Input(shape=(10,), name='decoder_label_input')\n",
    "x = layers.concatenate([decoder_input, decoder_label_input])\n",
    "x = layers.Dense(7 * 7 * 64, activation=\"relu\")(x)\n",
    "x = layers.Reshape((7, 7, 64))(x)\n",
    "x = layers.Conv2DTranspose(64, 3, activation=\"relu\", strides=2, padding=\"same\")(x)\n",
    "x = layers.Conv2DTranspose(32, 3, activation=\"relu\", strides=2, padding=\"same\")(x)\n",
    "decoder_output = layers.Conv2DTranspose(1, 3, activation=\"sigmoid\", padding=\"same\")(x)\n",
    "\n",
    "decoder = Model([decoder_input, decoder_label_input], decoder_output, name='decoder')\n",
    "\n",
    "print(decoder.summary())"
   ]
  },
  {
   "cell_type": "code",
   "execution_count": 8,
   "metadata": {},
   "outputs": [
    {
     "name": "stdout",
     "output_type": "stream",
     "text": [
      "Model: \"cvae\"\n",
      "__________________________________________________________________________________________________\n",
      " Layer (type)                   Output Shape         Param #     Connected to                     \n",
      "==================================================================================================\n",
      " input_1 (InputLayer)           [(None, 28, 28, 1)]  0           []                               \n",
      "                                                                                                  \n",
      " input_2 (InputLayer)           [(None, 10)]         0           []                               \n",
      "                                                                                                  \n",
      " encoder (Functional)           [(None, 16),         1629984     ['input_1[0][0]',                \n",
      "                                 (None, 16)]                      'input_2[0][0]']                \n",
      "                                                                                                  \n",
      " lambda_1 (Lambda)              (None, 16)           0           ['encoder[0][0]',                \n",
      "                                                                  'encoder[0][1]']                \n",
      "                                                                                                  \n",
      " decoder (Functional)           (None, 28, 28, 1)    140353      ['lambda_1[0][0]',               \n",
      "                                                                  'input_2[0][0]']                \n",
      "                                                                                                  \n",
      "==================================================================================================\n",
      "Total params: 1,770,337\n",
      "Trainable params: 1,770,337\n",
      "Non-trainable params: 0\n",
      "__________________________________________________________________________________________________\n",
      "None\n"
     ]
    }
   ],
   "source": [
    "x = layers.Input(shape=input_shape)\n",
    "label = layers.Input(shape=(10,))\n",
    "z_mean, z_log_var = encoder([x, label])\n",
    "z = layers.Lambda(sampling, output_shape=(latent_dim,))([z_mean, z_log_var])\n",
    "x_decoded = decoder([z, label])\n",
    "\n",
    "cvae = Model([x, label], x_decoded, name='cvae')\n",
    "print(cvae.summary())"
   ]
  },
  {
   "cell_type": "code",
   "execution_count": 9,
   "metadata": {},
   "outputs": [],
   "source": [
    "recon_loss = tf.keras.metrics.binary_crossentropy(K.flatten(x), K.flatten(x_decoded))\n",
    "kl_loss = -5e-4 * K.mean(1+z_log_var - K.square(z_mean) - K.exp(z_log_var), axis=-1)\n",
    "cvae_loss = K.mean(recon_loss + kl_loss)\n",
    "cvae.add_loss(cvae_loss)"
   ]
  },
  {
   "cell_type": "code",
   "execution_count": 10,
   "metadata": {},
   "outputs": [],
   "source": [
    "batch_size = 32\n",
    "epochs = 30"
   ]
  },
  {
   "cell_type": "code",
   "execution_count": 11,
   "metadata": {},
   "outputs": [],
   "source": [
    "cvae.compile(optimizer='adam')"
   ]
  },
  {
   "cell_type": "code",
   "execution_count": 12,
   "metadata": {},
   "outputs": [
    {
     "name": "stderr",
     "output_type": "stream",
     "text": [
      "2023-05-19 22:59:53.673679: W tensorflow/tsl/framework/cpu_allocator_impl.cc:83] Allocation of 188160000 exceeds 10% of free system memory.\n",
      "2023-05-19 22:59:53.896051: W tensorflow/tsl/framework/cpu_allocator_impl.cc:83] Allocation of 188160000 exceeds 10% of free system memory.\n"
     ]
    },
    {
     "name": "stdout",
     "output_type": "stream",
     "text": [
      "Epoch 1/30\n"
     ]
    },
    {
     "name": "stderr",
     "output_type": "stream",
     "text": [
      "2023-05-19 22:59:56.482107: I tensorflow/compiler/xla/stream_executor/cuda/cuda_dnn.cc:424] Loaded cuDNN version 8901\n",
      "2023-05-19 22:59:57.256843: I tensorflow/tsl/platform/default/subprocess.cc:304] Start cannot spawn child process: No such file or directory\n",
      "2023-05-19 22:59:57.819585: I tensorflow/compiler/xla/service/service.cc:169] XLA service 0x7f45ecd0c040 initialized for platform CUDA (this does not guarantee that XLA will be used). Devices:\n",
      "2023-05-19 22:59:57.819623: I tensorflow/compiler/xla/service/service.cc:177]   StreamExecutor device (0): NVIDIA GeForce GTX 1050, Compute Capability 6.1\n",
      "2023-05-19 22:59:57.827979: I tensorflow/compiler/mlir/tensorflow/utils/dump_mlir_util.cc:269] disabling MLIR crash reproducer, set env var `MLIR_CRASH_REPRODUCER_DIRECTORY` to enable.\n",
      "2023-05-19 22:59:57.951851: I tensorflow/tsl/platform/default/subprocess.cc:304] Start cannot spawn child process: No such file or directory\n",
      "2023-05-19 22:59:58.034813: I ./tensorflow/compiler/jit/device_compiler.h:180] Compiled cluster using XLA!  This line is logged at most once for the lifetime of the process.\n"
     ]
    },
    {
     "name": "stdout",
     "output_type": "stream",
     "text": [
      "1875/1875 [==============================] - 27s 11ms/step - loss: 0.1306 - val_loss: 0.0964\n",
      "Epoch 2/30\n",
      "1875/1875 [==============================] - 19s 10ms/step - loss: 0.0928 - val_loss: 0.0902\n",
      "Epoch 3/30\n",
      "1875/1875 [==============================] - 19s 10ms/step - loss: 0.0887 - val_loss: 0.0875\n",
      "Epoch 4/30\n",
      "1875/1875 [==============================] - 19s 10ms/step - loss: 0.0868 - val_loss: 0.0858\n",
      "Epoch 5/30\n",
      "1875/1875 [==============================] - 19s 10ms/step - loss: 0.0855 - val_loss: 0.0854\n",
      "Epoch 6/30\n",
      "1875/1875 [==============================] - 19s 10ms/step - loss: 0.0846 - val_loss: 0.0847\n",
      "Epoch 7/30\n",
      "1875/1875 [==============================] - 19s 10ms/step - loss: 0.0840 - val_loss: 0.0843\n",
      "Epoch 8/30\n",
      "1875/1875 [==============================] - 19s 10ms/step - loss: 0.0835 - val_loss: 0.0841\n",
      "Epoch 9/30\n",
      "1875/1875 [==============================] - 19s 10ms/step - loss: 0.0830 - val_loss: 0.0836\n",
      "Epoch 10/30\n",
      "1875/1875 [==============================] - 19s 10ms/step - loss: 0.0827 - val_loss: 0.0836\n",
      "Epoch 11/30\n",
      "1875/1875 [==============================] - 19s 10ms/step - loss: 0.0824 - val_loss: 0.0833\n",
      "Epoch 12/30\n",
      "1875/1875 [==============================] - 19s 10ms/step - loss: 0.0821 - val_loss: 0.0831\n",
      "Epoch 13/30\n",
      "1875/1875 [==============================] - 19s 10ms/step - loss: 0.0819 - val_loss: 0.0831\n",
      "Epoch 14/30\n",
      "1875/1875 [==============================] - 19s 10ms/step - loss: 0.0817 - val_loss: 0.0829\n",
      "Epoch 15/30\n",
      "1875/1875 [==============================] - 19s 10ms/step - loss: 0.0815 - val_loss: 0.0829\n",
      "Epoch 16/30\n",
      "1875/1875 [==============================] - 19s 10ms/step - loss: 0.0813 - val_loss: 0.0827\n",
      "Epoch 17/30\n",
      "1875/1875 [==============================] - 19s 10ms/step - loss: 0.0811 - val_loss: 0.0826\n",
      "Epoch 18/30\n",
      "1875/1875 [==============================] - 19s 10ms/step - loss: 0.0810 - val_loss: 0.0834\n",
      "Epoch 19/30\n",
      "1875/1875 [==============================] - 19s 10ms/step - loss: 0.0809 - val_loss: 0.0825\n",
      "Epoch 20/30\n",
      "1875/1875 [==============================] - 19s 10ms/step - loss: 0.0807 - val_loss: 0.0827\n",
      "Epoch 21/30\n",
      "1875/1875 [==============================] - 19s 10ms/step - loss: 0.0806 - val_loss: 0.0824\n",
      "Epoch 22/30\n",
      "1875/1875 [==============================] - 19s 10ms/step - loss: 0.0805 - val_loss: 0.0824\n",
      "Epoch 23/30\n",
      "1875/1875 [==============================] - 19s 10ms/step - loss: 0.0804 - val_loss: 0.0824\n",
      "Epoch 24/30\n",
      "1875/1875 [==============================] - 19s 10ms/step - loss: 0.0803 - val_loss: 0.0823\n",
      "Epoch 25/30\n",
      "1875/1875 [==============================] - 19s 10ms/step - loss: 0.0802 - val_loss: 0.0823\n",
      "Epoch 26/30\n",
      "1875/1875 [==============================] - 19s 10ms/step - loss: 0.0802 - val_loss: 0.0821\n",
      "Epoch 27/30\n",
      "1875/1875 [==============================] - 19s 10ms/step - loss: 0.0801 - val_loss: 0.0823\n",
      "Epoch 28/30\n",
      "1875/1875 [==============================] - 19s 10ms/step - loss: 0.0800 - val_loss: 0.0821\n",
      "Epoch 29/30\n",
      "1875/1875 [==============================] - 19s 10ms/step - loss: 0.0799 - val_loss: 0.0823\n",
      "Epoch 30/30\n",
      "1875/1875 [==============================] - 19s 10ms/step - loss: 0.0799 - val_loss: 0.0823\n"
     ]
    },
    {
     "data": {
      "text/plain": [
       "<keras.callbacks.History at 0x7f4850128850>"
      ]
     },
     "execution_count": 12,
     "metadata": {},
     "output_type": "execute_result"
    }
   ],
   "source": [
    "cvae.fit([x_train, y_train],None,epochs=epochs,batch_size=batch_size,validation_data=([x_test, y_test], None))"
   ]
  },
  {
   "cell_type": "code",
   "execution_count": 13,
   "metadata": {},
   "outputs": [
    {
     "name": "stdout",
     "output_type": "stream",
     "text": [
      "313/313 [==============================] - 1s 4ms/step\n"
     ]
    }
   ],
   "source": [
    "decoded_imgs = cvae.predict([x_test, y_test])"
   ]
  },
  {
   "cell_type": "code",
   "execution_count": 14,
   "metadata": {},
   "outputs": [],
   "source": [
    "# plot n random decoded images\n",
    "def plot(n=10):\n",
    "    plt.figure(figsize=(20, 4))\n",
    "    for i in range(n):\n",
    "        idx = np.random.randint(0, len(x_test))\n",
    "        # display original\n",
    "        ax = plt.subplot(2, n, i + 1)\n",
    "        plt.imshow(x_test[idx].reshape(28, 28))\n",
    "        plt.gray()\n",
    "        ax.get_xaxis().set_visible(False)\n",
    "        ax.get_yaxis().set_visible(False)\n",
    "\n",
    "        # display reconstruction\n",
    "        ax = plt.subplot(2, n, i + 1 + n)\n",
    "        plt.imshow(decoded_imgs[idx].reshape(28, 28))\n",
    "        plt.gray()\n",
    "        ax.get_xaxis().set_visible(False)\n",
    "        ax.get_yaxis().set_visible(False)\n",
    "    plt.show()"
   ]
  },
  {
   "cell_type": "code",
   "execution_count": 15,
   "metadata": {},
   "outputs": [
    {
     "data": {
      "image/png": "[encoded data removed]",
      "text/plain": [
       "<Figure size 2000x400 with 20 Axes>"
      ]
     },
     "metadata": {},
     "output_type": "display_data"
    }
   ],
   "source": [
    "plot(10)"
   ]
  }
 ],
 "metadata": {
  "kernelspec": {
   "display_name": "Python 3",
   "language": "python",
   "name": "python3"
  },
  "language_info": {
   "codemirror_mode": {
    "name": "ipython",
    "version": 3
   },
   "file_extension": ".py",
   "mimetype": "text/x-python",
   "name": "python",
   "nbconvert_exporter": "python",
   "pygments_lexer": "ipython3",
   "version": "3.10.6"
  },
  "orig_nbformat": 4
 },
 "nbformat": 4,
 "nbformat_minor": 2
}
