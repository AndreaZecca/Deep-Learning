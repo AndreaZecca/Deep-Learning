{
  "cells": [
    {
      "cell_type": "markdown",
      "metadata": {
        "id": "pkKA6EUUbI8d"
      },
      "source": [
        "# Convolutionalization\n",
        "\n",
        "In this notebook, we explain the idea of convolutionalization, working with mnist digits.\n",
        "\n",
        "Convolutionalization is the process of transforming a neural network containing dense layers (typically some classification network) into a fully convolutional one.\n",
        "\n",
        "The fully convolutional network can be used as a detector kernel, convolving it over an input image to produce a \"heat map\" of the locations where objects are found."
      ]
    },
    {
      "cell_type": "code",
      "execution_count": 1,
      "metadata": {
        "id": "n-Kvac_mA5hb"
      },
      "outputs": [
        {
          "name": "stderr",
          "output_type": "stream",
          "text": [
            "2023-04-05 12:46:48.079115: I tensorflow/core/platform/cpu_feature_guard.cc:193] This TensorFlow binary is optimized with oneAPI Deep Neural Network Library (oneDNN) to use the following CPU instructions in performance-critical operations:  AVX2 FMA\n",
            "To enable them in other operations, rebuild TensorFlow with the appropriate compiler flags.\n",
            "2023-04-05 12:46:48.403630: W tensorflow/compiler/xla/stream_executor/platform/default/dso_loader.cc:64] Could not load dynamic library 'libcudart.so.11.0'; dlerror: libcudart.so.11.0: cannot open shared object file: No such file or directory\n",
            "2023-04-05 12:46:48.403651: I tensorflow/compiler/xla/stream_executor/cuda/cudart_stub.cc:29] Ignore above cudart dlerror if you do not have a GPU set up on your machine.\n",
            "2023-04-05 12:46:49.946453: W tensorflow/compiler/xla/stream_executor/platform/default/dso_loader.cc:64] Could not load dynamic library 'libnvinfer.so.7'; dlerror: libnvinfer.so.7: cannot open shared object file: No such file or directory\n",
            "2023-04-05 12:46:49.946565: W tensorflow/compiler/xla/stream_executor/platform/default/dso_loader.cc:64] Could not load dynamic library 'libnvinfer_plugin.so.7'; dlerror: libnvinfer_plugin.so.7: cannot open shared object file: No such file or directory\n",
            "2023-04-05 12:46:49.946577: W tensorflow/compiler/tf2tensorrt/utils/py_utils.cc:38] TF-TRT Warning: Cannot dlopen some TensorRT libraries. If you would like to use Nvidia GPU with TensorRT, please make sure the missing libraries mentioned above are installed properly.\n"
          ]
        }
      ],
      "source": [
        "import tensorflow as tf\n",
        "from tensorflow.keras.layers import Input, Conv2D, Flatten, Dense, GlobalMaxPool2D, MaxPool2D, Reshape\n",
        "from tensorflow.keras.models import Model\n",
        "from tensorflow.keras.datasets import mnist\n",
        "import numpy as np\n",
        "import matplotlib.pyplot as plt"
      ]
    },
    {
      "cell_type": "markdown",
      "metadata": {
        "id": "EwmUCAgoMPqE"
      },
      "source": [
        "Here we load the mnist dataset"
      ]
    },
    {
      "cell_type": "code",
      "execution_count": 2,
      "metadata": {
        "colab": {
          "base_uri": "https://localhost:8080/"
        },
        "id": "LtQzvbqvBuzF",
        "outputId": "15954b25-1d98-4244-f683-b0db08b83870"
      },
      "outputs": [
        {
          "name": "stdout",
          "output_type": "stream",
          "text": [
            "(60000, 28, 28, 1)\n",
            "0.0\n",
            "1.0\n"
          ]
        }
      ],
      "source": [
        "(x_train, y_train), (x_test, y_test) = mnist.load_data()\n",
        "x_train = x_train.reshape(60000,28,28,1)/255.\n",
        "x_test = x_test.reshape(10000,28,28,1)/255.\n",
        "print(x_train.shape)\n",
        "print(x_train.min())\n",
        "print(x_train.max())"
      ]
    },
    {
      "cell_type": "markdown",
      "metadata": {
        "id": "8Mm96cktqb7j"
      },
      "source": [
        "It is convenient to add to the detector a \"background\" class, containing no object. For traning and testing we create a bunch of images \"almost black\" (to be refined as an exercise)."
      ]
    },
    {
      "cell_type": "code",
      "execution_count": 3,
      "metadata": {
        "id": "ynQax_TpqV_3"
      },
      "outputs": [],
      "source": [
        "background = np.random.randint(0,5,(6000,28,28,1))/255.\n",
        "background_test = np.random.randint(0,5,(1000,28,28,1))/255."
      ]
    },
    {
      "cell_type": "markdown",
      "metadata": {
        "id": "gH5zpBkqthfX"
      },
      "source": [
        "Let us see an example of background, together with a typical image."
      ]
    },
    {
      "cell_type": "code",
      "execution_count": 4,
      "metadata": {
        "colab": {
          "base_uri": "https://localhost:8080/",
          "height": 216
        },
        "id": "JSttQ9PdqSKl",
        "outputId": "d819ceba-b63d-4c2a-a09e-fe5ce42f746b"
      },
      "outputs": [
        {
          "data": {
            "image/png": "[encoded data removed]",
            "text/plain": [
              "<Figure size 640x480 with 1 Axes>"
            ]
          },
          "metadata": {},
          "output_type": "display_data"
        }
      ],
      "source": [
        "imageplot = plt.imshow(np.reshape(np.concatenate((background[15],x_train[23]),axis=1),(28,56)))\n",
        "plt.show()"
      ]
    },
    {
      "cell_type": "markdown",
      "metadata": {
        "id": "xRMu8SAWdHYx"
      },
      "source": [
        "We extend the training set. Backgound gets label \"10\"."
      ]
    },
    {
      "cell_type": "code",
      "execution_count": 5,
      "metadata": {
        "id": "d2Rj10qfCLNi"
      },
      "outputs": [],
      "source": [
        "x_train_bg = np.concatenate((x_train,background))\n",
        "x_test_bg = np.concatenate((x_test,background_test))\n",
        "y_train_bg = np.concatenate((y_train,np.ones(6000)*10))\n",
        "y_test_bg = np.concatenate((y_test,np.ones(1000)*10))"
      ]
    },
    {
      "cell_type": "code",
      "execution_count": 6,
      "metadata": {
        "colab": {
          "base_uri": "https://localhost:8080/"
        },
        "id": "vaF-vuoNOSsl",
        "outputId": "212bfe92-a17a-415a-a2d6-eeaf25827a02"
      },
      "outputs": [
        {
          "name": "stdout",
          "output_type": "stream",
          "text": [
            "(66000, 28, 28, 1)\n"
          ]
        }
      ],
      "source": [
        "print(x_train_bg.shape)"
      ]
    },
    {
      "cell_type": "markdown",
      "metadata": {
        "id": "jywUMUvbd1s6"
      },
      "source": [
        "The classifier is composed by an initial part made by 2Dconvolutional layers, followed by two dense layers (intermixed by dropout).\n",
        "\n",
        "Every other convolution has stride 2, halving the size of the input. At the same time we double the channel dimension, to partially compensate the dimensionality loss.\n"
      ]
    },
    {
      "cell_type": "code",
      "execution_count": 7,
      "metadata": {
        "id": "jc2XEhlhCxhq"
      },
      "outputs": [
        {
          "name": "stderr",
          "output_type": "stream",
          "text": [
            "2023-04-05 12:49:05.037480: E tensorflow/compiler/xla/stream_executor/cuda/cuda_driver.cc:267] failed call to cuInit: CUDA_ERROR_NO_DEVICE: no CUDA-capable device is detected\n",
            "2023-04-05 12:49:05.037572: I tensorflow/compiler/xla/stream_executor/cuda/cuda_diagnostics.cc:156] kernel driver does not appear to be running on this host (andrea): /proc/driver/nvidia/version does not exist\n",
            "2023-04-05 12:49:05.038273: I tensorflow/core/platform/cpu_feature_guard.cc:193] This TensorFlow binary is optimized with oneAPI Deep Neural Network Library (oneDNN) to use the following CPU instructions in performance-critical operations:  AVX2 FMA\n",
            "To enable them in other operations, rebuild TensorFlow with the appropriate compiler flags.\n"
          ]
        }
      ],
      "source": [
        "iimg = Input(shape=(28,28,1))\n",
        "x = Conv2D(16,(3,3),strides=2,padding='same', activation='swish')(iimg)\n",
        "x = Conv2D(32,(3,3),strides=2,padding='same',activation='swish')(x)\n",
        "x = Conv2D(64,(3,3),strides=2,padding='same',activation='swish')(x)\n",
        "x = GlobalMaxPool2D()(x)\n",
        "x = Dense(64,activation = 'swish')(x)\n",
        "cout = Dense(11, activation = 'softmax')(x) #we have now 11 categories\n",
        "\n",
        "model = Model(inputs=[iimg],outputs=[cout])"
      ]
    },
    {
      "cell_type": "markdown",
      "metadata": {
        "id": "GkpFw9N2exQd"
      },
      "source": [
        "Here is the model summary. "
      ]
    },
    {
      "cell_type": "code",
      "execution_count": 8,
      "metadata": {
        "colab": {
          "base_uri": "https://localhost:8080/"
        },
        "id": "QamU6c46GqsD",
        "outputId": "5e2dca0b-1d27-442d-ad1a-1da0bf397d15"
      },
      "outputs": [
        {
          "name": "stdout",
          "output_type": "stream",
          "text": [
            "Model: \"model\"\n",
            "_________________________________________________________________\n",
            " Layer (type)                Output Shape              Param #   \n",
            "=================================================================\n",
            " input_1 (InputLayer)        [(None, 28, 28, 1)]       0         \n",
            "                                                                 \n",
            " conv2d (Conv2D)             (None, 14, 14, 16)        160       \n",
            "                                                                 \n",
            " conv2d_1 (Conv2D)           (None, 7, 7, 32)          4640      \n",
            "                                                                 \n",
            " conv2d_2 (Conv2D)           (None, 4, 4, 64)          18496     \n",
            "                                                                 \n",
            " global_max_pooling2d (Globa  (None, 64)               0         \n",
            " lMaxPooling2D)                                                  \n",
            "                                                                 \n",
            " dense (Dense)               (None, 64)                4160      \n",
            "                                                                 \n",
            " dense_1 (Dense)             (None, 11)                715       \n",
            "                                                                 \n",
            "=================================================================\n",
            "Total params: 28,171\n",
            "Trainable params: 28,171\n",
            "Non-trainable params: 0\n",
            "_________________________________________________________________\n"
          ]
        }
      ],
      "source": [
        "model.summary()"
      ]
    },
    {
      "cell_type": "markdown",
      "metadata": {
        "id": "0Qmdo95Ugyl_"
      },
      "source": [
        "We compile the model with (sparse) categorical crossentropy. \n",
        "Recall that the training set is automatically shuffled by the fit method.\n",
        "\n",
        "We add accuracy as additional metric to evaluate the model."
      ]
    },
    {
      "cell_type": "code",
      "execution_count": 9,
      "metadata": {
        "id": "sFFQtCClN9cw"
      },
      "outputs": [],
      "source": [
        "model.compile(optimizer='adam',loss='sparse_categorical_crossentropy',metrics=['accuracy'])"
      ]
    },
    {
      "cell_type": "markdown",
      "metadata": {
        "id": "LAF84qHSjrXc"
      },
      "source": [
        "Ten epochs of training should be enough."
      ]
    },
    {
      "cell_type": "code",
      "execution_count": 10,
      "metadata": {
        "colab": {
          "base_uri": "https://localhost:8080/"
        },
        "id": "qZ3kzHG8NnlV",
        "outputId": "ee3a6a6f-c57d-4966-d4ec-4043c0c9312b"
      },
      "outputs": [
        {
          "name": "stdout",
          "output_type": "stream",
          "text": [
            "Epoch 1/10\n"
          ]
        },
        {
          "name": "stderr",
          "output_type": "stream",
          "text": [
            "2023-04-05 12:49:22.684267: W tensorflow/tsl/framework/cpu_allocator_impl.cc:82] Allocation of 206976000 exceeds 10% of free system memory.\n"
          ]
        },
        {
          "name": "stdout",
          "output_type": "stream",
          "text": [
            "660/660 [==============================] - ETA: 0s - loss: 0.4466 - accuracy: 0.8623"
          ]
        },
        {
          "name": "stderr",
          "output_type": "stream",
          "text": [
            "2023-04-05 12:49:42.561121: W tensorflow/tsl/framework/cpu_allocator_impl.cc:82] Allocation of 34496000 exceeds 10% of free system memory.\n"
          ]
        },
        {
          "name": "stdout",
          "output_type": "stream",
          "text": [
            "660/660 [==============================] - 21s 29ms/step - loss: 0.4466 - accuracy: 0.8623 - val_loss: 0.1487 - val_accuracy: 0.9559\n",
            "Epoch 2/10\n",
            "660/660 [==============================] - 18s 28ms/step - loss: 0.1270 - accuracy: 0.9622 - val_loss: 0.0935 - val_accuracy: 0.9718\n",
            "Epoch 3/10\n",
            "660/660 [==============================] - 16s 25ms/step - loss: 0.0861 - accuracy: 0.9744 - val_loss: 0.0694 - val_accuracy: 0.9796\n",
            "Epoch 4/10\n",
            "660/660 [==============================] - 15s 23ms/step - loss: 0.0651 - accuracy: 0.9801 - val_loss: 0.0608 - val_accuracy: 0.9812\n",
            "Epoch 5/10\n",
            "660/660 [==============================] - 14s 22ms/step - loss: 0.0524 - accuracy: 0.9840 - val_loss: 0.0605 - val_accuracy: 0.9819\n",
            "Epoch 6/10\n",
            "660/660 [==============================] - 15s 23ms/step - loss: 0.0437 - accuracy: 0.9864 - val_loss: 0.0537 - val_accuracy: 0.9823\n",
            "Epoch 7/10\n",
            "660/660 [==============================] - 15s 23ms/step - loss: 0.0381 - accuracy: 0.9876 - val_loss: 0.0469 - val_accuracy: 0.9856\n",
            "Epoch 8/10\n",
            "660/660 [==============================] - 15s 23ms/step - loss: 0.0317 - accuracy: 0.9897 - val_loss: 0.0665 - val_accuracy: 0.9802\n",
            "Epoch 9/10\n",
            "660/660 [==============================] - 14s 21ms/step - loss: 0.0296 - accuracy: 0.9906 - val_loss: 0.0510 - val_accuracy: 0.9853\n",
            "Epoch 10/10\n",
            "660/660 [==============================] - 17s 26ms/step - loss: 0.0258 - accuracy: 0.9915 - val_loss: 0.0546 - val_accuracy: 0.9845\n"
          ]
        },
        {
          "data": {
            "text/plain": [
              "<keras.callbacks.History at 0x7fb76fd46f20>"
            ]
          },
          "execution_count": 10,
          "metadata": {},
          "output_type": "execute_result"
        }
      ],
      "source": [
        "model.fit(x_train_bg,y_train_bg,\n",
        "          epochs=10,\n",
        "          batch_size=100,\n",
        "          validation_data=(x_test_bg, y_test_bg))"
      ]
    },
    {
      "cell_type": "markdown",
      "metadata": {
        "id": "yncro6-HM7cM"
      },
      "source": [
        "Let us save the weights, since we need them."
      ]
    },
    {
      "cell_type": "code",
      "execution_count": 11,
      "metadata": {
        "id": "A470NYc06CAm"
      },
      "outputs": [],
      "source": [
        "model.save_weights(\"convolutionalization_mymodel.hdf5\")"
      ]
    },
    {
      "cell_type": "markdown",
      "metadata": {
        "id": "QYouO3EG4twa"
      },
      "source": [
        "Now we define a fully convolutional network. We aim to obtain in output a feature map, that is a 2D image.\n",
        "\n",
        "A simple way to do it is to directly apply the Dense layers to the 3D features maps before maxpooling. In tensorflow, this is equivalent to apply a unary convolution, that is the dense layer only operates on channels."
      ]
    },
    {
      "cell_type": "code",
      "execution_count": 12,
      "metadata": {
        "id": "HWx7Qce053Tn"
      },
      "outputs": [],
      "source": [
        "iimg = Input(shape=(None,None,1))\n",
        "x = Conv2D(16,(3,3),strides=2,padding='same', activation='swish',name=\"l1\")(iimg)\n",
        "x = Conv2D(32,(3,3),strides=2,padding='same',activation='swish',name=\"l2\")(x)\n",
        "x = Conv2D(64,(3,3),strides=2,padding='same',activation='swish',name=\"l3\")(x)\n",
        "#x = MaxPool2D((3,3),padding='same',strides=1)(x)\n",
        "x = Dense(64,activation = 'swish')(x)\n",
        "cout = Dense(11, activation = 'softmax')(x) \n",
        "\n",
        "model_c = Model(inputs=[iimg],outputs=[cout])"
      ]
    },
    {
      "attachments": {},
      "cell_type": "markdown",
      "metadata": {
        "id": "OcDxh3NPN2zj"
      },
      "source": [
        "Let us see the summary. \n",
        "\n",
        "Observe that the spatial dimension of the input is unspecified and that we get a spatial heat map as output. \n",
        "\n",
        "To better understand the relation between the input-output spatial dimensions fix the some shapes for inputs and recompute the summary."
      ]
    },
    {
      "cell_type": "code",
      "execution_count": 13,
      "metadata": {
        "colab": {
          "base_uri": "https://localhost:8080/"
        },
        "id": "aBz8nT8Z6qzl",
        "outputId": "66ee5cdb-fb19-4fe8-d6c4-d056d4d09da8"
      },
      "outputs": [
        {
          "name": "stdout",
          "output_type": "stream",
          "text": [
            "Model: \"model_1\"\n",
            "_________________________________________________________________\n",
            " Layer (type)                Output Shape              Param #   \n",
            "=================================================================\n",
            " input_2 (InputLayer)        [(None, None, None, 1)]   0         \n",
            "                                                                 \n",
            " l1 (Conv2D)                 (None, None, None, 16)    160       \n",
            "                                                                 \n",
            " l2 (Conv2D)                 (None, None, None, 32)    4640      \n",
            "                                                                 \n",
            " l3 (Conv2D)                 (None, None, None, 64)    18496     \n",
            "                                                                 \n",
            " dense_2 (Dense)             (None, None, None, 64)    4160      \n",
            "                                                                 \n",
            " dense_3 (Dense)             (None, None, None, 11)    715       \n",
            "                                                                 \n",
            "=================================================================\n",
            "Total params: 28,171\n",
            "Trainable params: 28,171\n",
            "Non-trainable params: 0\n",
            "_________________________________________________________________\n"
          ]
        }
      ],
      "source": [
        "model_c.summary()"
      ]
    },
    {
      "cell_type": "markdown",
      "metadata": {
        "id": "pPlvZZ-5O1Pi"
      },
      "source": [
        "The previous fully convolutional network has precisely the same parameters of the previous classifier, so we can just load the saved weights.\n",
        "\n"
      ]
    },
    {
      "cell_type": "code",
      "execution_count": 14,
      "metadata": {
        "id": "WPi59o0t7R5Z"
      },
      "outputs": [],
      "source": [
        "model_c.load_weights(\"convolutionalization_mymodel.hdf5\")"
      ]
    },
    {
      "cell_type": "markdown",
      "metadata": {
        "id": "eu3ku6-yIKW2"
      },
      "source": [
        "Let us create an image composed by several mnist digits."
      ]
    },
    {
      "cell_type": "code",
      "execution_count": 15,
      "metadata": {
        "id": "kr-B_0bzIXx6"
      },
      "outputs": [],
      "source": [
        "rimg = np.zeros((128,128,1))\n",
        "rimg[12:40,6:34] = x_test[15]\n",
        "rimg[40:68,30:58] = x_test[14]\n",
        "rimg[15:43,45:73] = x_test[13]\n",
        "rimg[5:33,75:103] = x_test[12]\n",
        "rimg[45:73,90:118] = x_test[11]\n",
        "rimg[89:117,70:98] = x_test[9]\n",
        "rimg[80:108,25:53] = x_test[6]"
      ]
    },
    {
      "cell_type": "code",
      "execution_count": 16,
      "metadata": {
        "colab": {
          "base_uri": "https://localhost:8080/",
          "height": 268
        },
        "id": "hoaxUx-3JgfL",
        "outputId": "60fa9643-22d0-40bc-bc56-586efb6cbf5f"
      },
      "outputs": [
        {
          "data": {
            "image/png": "[encoded data removed]",
            "text/plain": [
              "<Figure size 640x480 with 1 Axes>"
            ]
          },
          "metadata": {},
          "output_type": "display_data"
        }
      ],
      "source": [
        "imageplot = plt.imshow(np.reshape(rimg,(128,128)))\n",
        "plt.show()"
      ]
    },
    {
      "cell_type": "markdown",
      "metadata": {
        "id": "04jhU6e4PNWE"
      },
      "source": [
        "We use the cmap function of pyplot to map classes to colors."
      ]
    },
    {
      "cell_type": "code",
      "execution_count": 17,
      "metadata": {
        "colab": {
          "base_uri": "https://localhost:8080/"
        },
        "id": "Zj3XJY43PYly",
        "outputId": "4fdb516c-f1e0-4c55-a411-c34ef538748b"
      },
      "outputs": [
        {
          "name": "stdout",
          "output_type": "stream",
          "text": [
            "(0.38920293465748, 1.0, 0.0) (1.0, 0.0, 0.6306823551141734)\n"
          ]
        }
      ],
      "source": [
        "def get_cmap(n, name='hsv'):\n",
        "    '''Returns a function that maps each index in 0, 1, ..., n-1 to a distinct \n",
        "    RGB color; the keyword argument name must be a standard mpl colormap name.'''\n",
        "    return plt.cm.get_cmap(name, n)\n",
        "\n",
        "cmap = get_cmap(12)\n",
        "\n",
        "def cmap1(n):\n",
        "  return cmap(n)[0:3]\n",
        "\n",
        "print(cmap1(3),cmap1(10))"
      ]
    },
    {
      "cell_type": "markdown",
      "metadata": {
        "id": "rfNDhnzbPk40"
      },
      "source": [
        "Now we try to use the fully convolutional network to \"locate\" digits in out sample image."
      ]
    },
    {
      "cell_type": "code",
      "execution_count": 18,
      "metadata": {
        "colab": {
          "base_uri": "https://localhost:8080/"
        },
        "id": "jt3l9HvOPd0a",
        "outputId": "85e7dc56-ad18-40cb-b595-21eb383bdc42"
      },
      "outputs": [
        {
          "name": "stdout",
          "output_type": "stream",
          "text": [
            "1/1 [==============================] - 0s 197ms/step\n",
            "(16, 16, 11)\n"
          ]
        }
      ],
      "source": [
        "fmap = model_c.predict(np.expand_dims(rimg,axis=0))[0]\n",
        "print(fmap.shape)"
      ]
    },
    {
      "cell_type": "code",
      "execution_count": 19,
      "metadata": {
        "colab": {
          "base_uri": "https://localhost:8080/"
        },
        "id": "7loH5p5ZQvTm",
        "outputId": "b1ddb727-df72-41fc-a975-39488b162195"
      },
      "outputs": [
        {
          "name": "stdout",
          "output_type": "stream",
          "text": [
            "(16, 16)\n",
            "[[10 10 10 10 10 10 10 10 10 10 10 10 10 10 10 10]\n",
            " [10 10  5 10 10 10 10 10 10 10  4  7 10 10 10 10]\n",
            " [10  5  5 10 10 10  0  7 10 10  7 10 10 10 10 10]\n",
            " [10  5  5 10 10 10  4  1 10 10 10 10 10 10 10 10]\n",
            " [10 10 10 10 10 10  5  1 10 10 10 10 10 10 10 10]\n",
            " [10 10 10 10  1  9 10 10 10 10 10 10 10 10 10 10]\n",
            " [10 10 10 10  1  9 10 10 10 10 10  1  6  7 10 10]\n",
            " [10 10 10 10 10  5 10 10 10 10 10  8  6 10 10 10]\n",
            " [10 10 10 10 10 10 10 10 10 10 10 10  4 10 10 10]\n",
            " [10 10 10 10 10 10 10 10 10 10 10 10 10 10 10 10]\n",
            " [10 10 10  1  8 10 10 10 10 10 10 10 10 10 10 10]\n",
            " [10 10 10  5  7 10 10 10 10 10  3 10 10 10 10 10]\n",
            " [10 10 10 10  5 10 10 10 10  9  3 10 10 10 10 10]\n",
            " [10 10 10 10 10 10 10 10 10  1  1 10 10 10 10 10]\n",
            " [10 10 10 10 10 10 10 10 10 10 10 10 10 10 10 10]\n",
            " [10 10 10 10 10 10 10 10 10 10 10 10 10 10 10 10]]\n"
          ]
        }
      ],
      "source": [
        "fmap = np.argmax(fmap,axis=-1)\n",
        "print(fmap.shape)\n",
        "print(fmap)"
      ]
    },
    {
      "cell_type": "markdown",
      "metadata": {
        "id": "n_F_2xH7P1Ca"
      },
      "source": [
        "The result is better appreciated as a heatmap."
      ]
    },
    {
      "cell_type": "code",
      "execution_count": 20,
      "metadata": {
        "colab": {
          "base_uri": "https://localhost:8080/"
        },
        "id": "ppQdo0_YRBHo",
        "outputId": "95654de9-9c6e-4933-93f3-09725bb24b07"
      },
      "outputs": [
        {
          "name": "stdout",
          "output_type": "stream",
          "text": [
            "(16, 16, 3)\n"
          ]
        }
      ],
      "source": [
        "vcmap = np.vectorize(cmap1)\n",
        "fcmap = np.array(vcmap(fmap))\n",
        "fcmap = np.transpose(fcmap,(1,2,0))\n",
        "print(fcmap.shape)"
      ]
    },
    {
      "cell_type": "code",
      "execution_count": 21,
      "metadata": {
        "colab": {
          "base_uri": "https://localhost:8080/",
          "height": 268
        },
        "id": "bJJR1aDDZqNX",
        "outputId": "2ba8df0e-6fae-4259-c754-c57aec5f2128"
      },
      "outputs": [
        {
          "data": {
            "image/png": "[encoded data removed]",
            "text/plain": [
              "<Figure size 640x480 with 1 Axes>"
            ]
          },
          "metadata": {},
          "output_type": "display_data"
        }
      ],
      "source": [
        "fig,ax = plt.subplots()\n",
        "ax.imshow(fcmap)\n",
        "for i in range(11):\n",
        "  ax.text(18,2*i,str(i))\n",
        "  ax.scatter(20,2*i,s=40,color=cmap1(i))\n",
        "plt.show()"
      ]
    },
    {
      "cell_type": "markdown",
      "metadata": {
        "id": "GlrZrMdLQG2F"
      },
      "source": [
        "Location is good but classification is not always accurate.\n",
        "\n",
        "#Improvements\n",
        "\n",
        "Let us try to improve things by training a classifier more robust to dispacements (mnist data are precisely centered, while the stride of the convolutional network is 8)."
      ]
    },
    {
      "cell_type": "code",
      "execution_count": 22,
      "metadata": {
        "id": "RDvR0XwASFLD"
      },
      "outputs": [],
      "source": [
        "from tensorflow.keras.preprocessing.image import ImageDataGenerator\n",
        "\n",
        "datagen = ImageDataGenerator(\n",
        "        #rotation_range=0.1,\n",
        "        width_shift_range=0.2,\n",
        "        height_shift_range=0.2,\n",
        "        #shear_range=0.15,\n",
        "        #zoom_range=0.15,\n",
        "        horizontal_flip=False,\n",
        "        fill_mode='nearest')"
      ]
    },
    {
      "cell_type": "markdown",
      "metadata": {
        "id": "COcc_SJaTkxO"
      },
      "source": [
        "Let's look at sample samples of augmement data:"
      ]
    },
    {
      "cell_type": "code",
      "execution_count": 23,
      "metadata": {
        "colab": {
          "base_uri": "https://localhost:8080/",
          "height": 1000
        },
        "id": "gbpOLiraWI_j",
        "outputId": "4878f19b-2af8-41bd-b10a-8956154a91b3"
      },
      "outputs": [
        {
          "data": {
            "image/png": "[encoded data removed]",
            "text/plain": [
              "<Figure size 640x480 with 1 Axes>"
            ]
          },
          "metadata": {},
          "output_type": "display_data"
        },
        {
          "data": {
            "image/png": "[encoded data removed]",
            "text/plain": [
              "<Figure size 640x480 with 1 Axes>"
            ]
          },
          "metadata": {},
          "output_type": "display_data"
        },
        {
          "data": {
            "image/png": "[encoded data removed]",
            "text/plain": [
              "<Figure size 640x480 with 1 Axes>"
            ]
          },
          "metadata": {},
          "output_type": "display_data"
        },
        {
          "data": {
            "image/png": "[encoded data removed]",
            "text/plain": [
              "<Figure size 640x480 with 1 Axes>"
            ]
          },
          "metadata": {},
          "output_type": "display_data"
        },
        {
          "data": {
            "image/png": "[encoded data removed]",
            "text/plain": [
              "<Figure size 640x480 with 1 Axes>"
            ]
          },
          "metadata": {},
          "output_type": "display_data"
        },
        {
          "data": {
            "image/png": "[encoded data removed]",
            "text/plain": [
              "<Figure size 640x480 with 1 Axes>"
            ]
          },
          "metadata": {},
          "output_type": "display_data"
        }
      ],
      "source": [
        "i = 0\n",
        "for batch in datagen.flow(x_train[7:8], batch_size=1):\n",
        "    i += 1\n",
        "    plt.imshow(batch[0,:,:,0])\n",
        "    plt.show()\n",
        "    if i > 5:\n",
        "        break  # otherwise the generator would loop indefinitely"
      ]
    },
    {
      "cell_type": "code",
      "execution_count": 24,
      "metadata": {
        "id": "brn4F0LUXs3a"
      },
      "outputs": [],
      "source": [
        "train_generator = datagen.flow(x_train_bg,y_train_bg,batch_size=100)"
      ]
    },
    {
      "cell_type": "code",
      "execution_count": 25,
      "metadata": {
        "colab": {
          "base_uri": "https://localhost:8080/"
        },
        "id": "xGnvhhU5YoG5",
        "outputId": "fdd9784c-2d5a-4141-c2bc-31caedd49d42"
      },
      "outputs": [
        {
          "name": "stdout",
          "output_type": "stream",
          "text": [
            "Epoch 1/5\n",
            "600/600 [==============================] - ETA: 0s - loss: 0.2211 - accuracy: 0.9309"
          ]
        },
        {
          "name": "stderr",
          "output_type": "stream",
          "text": [
            "2023-04-05 12:56:10.888567: W tensorflow/tsl/framework/cpu_allocator_impl.cc:82] Allocation of 34496000 exceeds 10% of free system memory.\n"
          ]
        },
        {
          "name": "stdout",
          "output_type": "stream",
          "text": [
            "600/600 [==============================] - 55s 90ms/step - loss: 0.2211 - accuracy: 0.9309 - val_loss: 0.1019 - val_accuracy: 0.9675\n",
            "Epoch 2/5\n",
            "600/600 [==============================] - 57s 94ms/step - loss: 0.1173 - accuracy: 0.9634 - val_loss: 0.0832 - val_accuracy: 0.9725\n",
            "Epoch 3/5\n",
            "600/600 [==============================] - 59s 98ms/step - loss: 0.0953 - accuracy: 0.9697 - val_loss: 0.0855 - val_accuracy: 0.9720\n",
            "Epoch 4/5\n",
            "600/600 [==============================] - 59s 98ms/step - loss: 0.0867 - accuracy: 0.9730 - val_loss: 0.0818 - val_accuracy: 0.9732\n",
            "Epoch 5/5\n",
            "600/600 [==============================] - 59s 98ms/step - loss: 0.0784 - accuracy: 0.9750 - val_loss: 0.0878 - val_accuracy: 0.9711\n"
          ]
        },
        {
          "data": {
            "text/plain": [
              "<keras.callbacks.History at 0x7fb76fd2fbb0>"
            ]
          },
          "execution_count": 25,
          "metadata": {},
          "output_type": "execute_result"
        }
      ],
      "source": [
        "model.fit(train_generator,\n",
        "          steps_per_epoch = 600,\n",
        "          epochs=5,\n",
        "          validation_data=(x_test_bg, y_test_bg))"
      ]
    },
    {
      "cell_type": "code",
      "execution_count": 26,
      "metadata": {
        "id": "SJectqSSaUv5"
      },
      "outputs": [],
      "source": [
        "model.save_weights(\"convolutionalization_mymodel_bis.hdf5\")"
      ]
    },
    {
      "cell_type": "code",
      "execution_count": 27,
      "metadata": {
        "id": "_wXvWSBPadXU"
      },
      "outputs": [],
      "source": [
        "model_c.load_weights(\"convolutionalization_mymodel_bis.hdf5\")"
      ]
    },
    {
      "cell_type": "code",
      "execution_count": 28,
      "metadata": {
        "colab": {
          "base_uri": "https://localhost:8080/"
        },
        "id": "gwAoDgPbanFL",
        "outputId": "ee664e2b-f566-4e0b-9051-a1d0fbc6e19c"
      },
      "outputs": [
        {
          "name": "stdout",
          "output_type": "stream",
          "text": [
            "1/1 [==============================] - 0s 66ms/step\n",
            "[[10 10 10 10 10 10 10 10 10 10 10 10 10 10 10 10]\n",
            " [10  0 10 10 10 10 10 10 10 10  0  7 10 10 10 10]\n",
            " [10  5  5 10 10 10  1  7 10 10  7  8 10 10 10 10]\n",
            " [10 10  3 10 10 10  6  7 10 10 10 10 10 10 10 10]\n",
            " [10  2  0 10 10 10  4  5 10 10 10 10 10 10 10 10]\n",
            " [10 10 10 10  1  1 10 10 10 10 10 10 10 10 10 10]\n",
            " [10 10 10 10  1  1 10 10 10 10 10  1  6  9 10 10]\n",
            " [10 10 10 10 10 10 10 10 10 10 10  4  6 10 10 10]\n",
            " [10 10 10 10 10 10 10 10 10 10 10 10  2 10 10 10]\n",
            " [10 10 10 10 10 10 10 10 10 10 10 10 10 10 10 10]\n",
            " [10 10 10  1  4 10 10 10 10 10 10 10 10 10 10 10]\n",
            " [10 10 10  2  7 10 10 10 10  1 10 10 10 10 10 10]\n",
            " [10 10 10 10  5 10 10 10 10  9  7 10 10 10 10 10]\n",
            " [10 10 10 10 10 10 10 10 10  7 10 10 10 10 10 10]\n",
            " [10 10 10 10 10 10 10 10 10 10 10 10 10 10 10 10]\n",
            " [10 10 10 10 10 10 10 10 10 10 10 10 10 10 10 10]]\n",
            "(16, 16, 3)\n"
          ]
        }
      ],
      "source": [
        "fmap = model_c.predict(np.expand_dims(rimg,axis=0))[0]\n",
        "fmap = np.argmax(fmap,axis=-1)\n",
        "print(fmap)\n",
        "fcmap = np.array(vcmap(fmap))\n",
        "fcmap = np.transpose(fcmap,(1,2,0))\n",
        "print(fcmap.shape)"
      ]
    },
    {
      "cell_type": "code",
      "execution_count": 29,
      "metadata": {
        "colab": {
          "base_uri": "https://localhost:8080/",
          "height": 268
        },
        "id": "hx4ub7zZa5YP",
        "outputId": "f59a3766-b5bc-41e8-a4d6-fa4b134afa36"
      },
      "outputs": [
        {
          "data": {
            "image/png": "[encoded data removed]",
            "text/plain": [
              "<Figure size 640x480 with 1 Axes>"
            ]
          },
          "metadata": {},
          "output_type": "display_data"
        }
      ],
      "source": [
        "fig,ax = plt.subplots()\n",
        "ax.imshow(fcmap)\n",
        "for i in range(11):\n",
        "  ax.text(18,2*i,str(i))\n",
        "  ax.scatter(20,2*i,s=40,color=cmap1(i))\n",
        "plt.show()"
      ]
    },
    {
      "cell_type": "markdown",
      "metadata": {
        "id": "NXUFA3GLT1MI"
      },
      "source": [
        "As a second attemp we consider a sligtly more sophisticated classifier."
      ]
    },
    {
      "cell_type": "code",
      "execution_count": 30,
      "metadata": {
        "id": "DijHOV-4cGvs"
      },
      "outputs": [],
      "source": [
        "iimg = Input(shape=(28,28,1))\n",
        "x = Conv2D(16,(3,3),strides=2,padding='same', activation='swish')(iimg)\n",
        "x = Conv2D(16,(3,3),strides=1,padding='same',activation='swish')(x)\n",
        "x = Conv2D(32,(3,3),strides=2,padding='same',activation='swish')(x)\n",
        "x = Conv2D(32,(3,3),strides=1,padding='same',activation='swish')(x)\n",
        "x = Conv2D(64,(3,3),strides=2,padding='same',activation='swish')(x)\n",
        "x = Conv2D(64,(3,3),strides=1,padding='same',activation='swish')(x)\n",
        "x = GlobalMaxPool2D()(x)\n",
        "x = Dense(64,activation = 'swish')(x)\n",
        "cout = Dense(11, activation = 'softmax')(x) #we have now 11 categories\n",
        "\n",
        "model2 = Model(inputs=[iimg],outputs=[cout])"
      ]
    },
    {
      "cell_type": "code",
      "execution_count": 31,
      "metadata": {
        "id": "4Uuv3puZcvfc"
      },
      "outputs": [],
      "source": [
        "model2.compile(optimizer='adam',loss='sparse_categorical_crossentropy',metrics=['accuracy'])"
      ]
    },
    {
      "cell_type": "code",
      "execution_count": 32,
      "metadata": {
        "colab": {
          "base_uri": "https://localhost:8080/"
        },
        "id": "eee-uXT9c3Op",
        "outputId": "78d6ea17-5e6a-43f0-e20c-754221ebcd39"
      },
      "outputs": [
        {
          "name": "stdout",
          "output_type": "stream",
          "text": [
            "Epoch 1/5\n",
            "  2/600 [..............................] - ETA: 1:17 - loss: 2.3980 - accuracy: 0.0700 "
          ]
        },
        {
          "name": "stderr",
          "output_type": "stream",
          "text": [
            "2023-04-05 13:00:54.953266: W tensorflow/tsl/framework/cpu_allocator_impl.cc:82] Allocation of 26417664 exceeds 10% of free system memory.\n",
            "2023-04-05 13:00:54.953371: W tensorflow/tsl/framework/cpu_allocator_impl.cc:82] Allocation of 26417664 exceeds 10% of free system memory.\n"
          ]
        },
        {
          "name": "stdout",
          "output_type": "stream",
          "text": [
            "600/600 [==============================] - 41s 66ms/step - loss: 0.5447 - accuracy: 0.8160 - val_loss: 0.1506 - val_accuracy: 0.9517\n",
            "Epoch 2/5\n",
            "600/600 [==============================] - 38s 64ms/step - loss: 0.1334 - accuracy: 0.9592 - val_loss: 0.0935 - val_accuracy: 0.9712\n",
            "Epoch 3/5\n",
            "600/600 [==============================] - 36s 59ms/step - loss: 0.0901 - accuracy: 0.9715 - val_loss: 0.0697 - val_accuracy: 0.9779\n",
            "Epoch 4/5\n",
            "600/600 [==============================] - 36s 60ms/step - loss: 0.0725 - accuracy: 0.9778 - val_loss: 0.0715 - val_accuracy: 0.9785\n",
            "Epoch 5/5\n",
            "600/600 [==============================] - 37s 61ms/step - loss: 0.0587 - accuracy: 0.9818 - val_loss: 0.0654 - val_accuracy: 0.9792\n"
          ]
        },
        {
          "data": {
            "text/plain": [
              "<keras.callbacks.History at 0x7fb72c0a0700>"
            ]
          },
          "execution_count": 32,
          "metadata": {},
          "output_type": "execute_result"
        }
      ],
      "source": [
        "model2.fit(train_generator,\n",
        "          steps_per_epoch = 600,\n",
        "          epochs=5,\n",
        "          validation_data=(x_test_bg, y_test_bg))"
      ]
    },
    {
      "cell_type": "code",
      "execution_count": 33,
      "metadata": {
        "id": "p6p7XCn-elAV"
      },
      "outputs": [],
      "source": [
        "model2.save_weights(\"convolutionalization_mymodel2.hdf5\")"
      ]
    },
    {
      "cell_type": "markdown",
      "metadata": {
        "id": "iirhhadoUJF6"
      },
      "source": [
        "Now we convolutionalize the previous calssifier. In this case, we also leave a pooling layer after the convolution. Since we do not want to further decrease the spatial dimension of the feature map, we apply it with stride 1 (the default stride for pooling layers is equal to the dimension of the kernel)."
      ]
    },
    {
      "cell_type": "code",
      "execution_count": 35,
      "metadata": {
        "id": "4bYCpOPTeIB-"
      },
      "outputs": [
        {
          "name": "stdout",
          "output_type": "stream",
          "text": [
            "Model: \"model_4\"\n",
            "_________________________________________________________________\n",
            " Layer (type)                Output Shape              Param #   \n",
            "=================================================================\n",
            " input_5 (InputLayer)        [(None, None, None, 1)]   0         \n",
            "                                                                 \n",
            " conv2d_15 (Conv2D)          (None, None, None, 16)    160       \n",
            "                                                                 \n",
            " conv2d_16 (Conv2D)          (None, None, None, 16)    2320      \n",
            "                                                                 \n",
            " conv2d_17 (Conv2D)          (None, None, None, 32)    4640      \n",
            "                                                                 \n",
            " conv2d_18 (Conv2D)          (None, None, None, 32)    9248      \n",
            "                                                                 \n",
            " conv2d_19 (Conv2D)          (None, None, None, 64)    18496     \n",
            "                                                                 \n",
            " conv2d_20 (Conv2D)          (None, None, None, 64)    36928     \n",
            "                                                                 \n",
            " max_pooling2d_1 (MaxPooling  (None, None, None, 64)   0         \n",
            " 2D)                                                             \n",
            "                                                                 \n",
            " dense_8 (Dense)             (None, None, None, 64)    4160      \n",
            "                                                                 \n",
            " dense_9 (Dense)             (None, None, None, 11)    715       \n",
            "                                                                 \n",
            "=================================================================\n",
            "Total params: 76,667\n",
            "Trainable params: 76,667\n",
            "Non-trainable params: 0\n",
            "_________________________________________________________________\n"
          ]
        }
      ],
      "source": [
        "iimg = Input(shape=(None,None,1))\n",
        "x = Conv2D(16,(3,3),strides=2,padding='same', activation='swish')(iimg)\n",
        "x = Conv2D(16,(3,3),strides=1,padding='same',activation='swish')(x)\n",
        "x = Conv2D(32,(3,3),strides=2,padding='same',activation='swish')(x)\n",
        "x = Conv2D(32,(3,3),strides=1,padding='same',activation='swish')(x)\n",
        "x = Conv2D(64,(3,3),strides=2,padding='same',activation='swish')(x)\n",
        "x = Conv2D(64,(3,3),strides=1,padding='same',activation='swish')(x)\n",
        "x = MaxPool2D((3,3),padding='same',strides=1)(x)\n",
        "x = Dense(64,activation = 'swish')(x)\n",
        "cout = Dense(11, activation = 'softmax')(x) \n",
        "\n",
        "model2_c = Model(inputs=[iimg],outputs=[cout])\n",
        "model2_c.summary()"
      ]
    },
    {
      "cell_type": "code",
      "execution_count": 36,
      "metadata": {
        "id": "TaC6FKBpeia7"
      },
      "outputs": [],
      "source": [
        "model2_c.load_weights(\"convolutionalization_mymodel2.hdf5\")"
      ]
    },
    {
      "cell_type": "code",
      "execution_count": 37,
      "metadata": {
        "colab": {
          "base_uri": "https://localhost:8080/"
        },
        "id": "B_8Y_3mte21n",
        "outputId": "002cb182-91c4-47f3-b11b-b8c506f519cc"
      },
      "outputs": [
        {
          "name": "stdout",
          "output_type": "stream",
          "text": [
            "1/1 [==============================] - 0s 271ms/step\n",
            "[[ 5  5  5  5 10 10 10 10 10  0  0  0  8 10 10 10]\n",
            " [ 5  5  5  5  5 10  0  0  0  9  9  9  8 10 10 10]\n",
            " [ 5  5  5  5  5  0  0  0  0  9  9  9  9 10 10 10]\n",
            " [ 5  5  5  5  5  0  0  0  0  7  9  9  5 10 10 10]\n",
            " [10  5  5  5  0  6  0  0  0 10 10 10 10 10 10 10]\n",
            " [10 10 10 10  1  1  1 10 10 10 10  6  6  6  0 10]\n",
            " [10 10 10 10  1  1  1 10 10 10 10  6  6  6  6 10]\n",
            " [10 10 10 10 10 10 10 10 10 10 10  6  6  6  0 10]\n",
            " [10 10 10 10 10 10 10 10 10 10 10  6  6  6 10 10]\n",
            " [10 10 10  0  0  0  5 10 10 10 10 10 10 10 10 10]\n",
            " [10 10 10  4  4  4  5 10 10 10  0 10 10 10 10 10]\n",
            " [10 10 10  4  4  4  5 10  9  9  9  8 10 10 10 10]\n",
            " [10 10 10  7  4  7 10 10  0  9  9  9 10 10 10 10]\n",
            " [10 10 10 10 10 10 10 10  9  7  7  7 10 10 10 10]\n",
            " [10 10 10 10 10 10 10 10 10  7  7 10 10 10 10 10]\n",
            " [10 10 10 10 10 10 10 10 10 10 10 10 10 10 10 10]]\n",
            "(16, 16, 3)\n"
          ]
        }
      ],
      "source": [
        "fmap = model2_c.predict(np.expand_dims(rimg,axis=0))[0]\n",
        "fmap = np.argmax(fmap,axis=-1)\n",
        "print(fmap)\n",
        "fcmap = np.array(vcmap(fmap))\n",
        "fcmap = np.transpose(fcmap,(1,2,0))\n",
        "print(fcmap.shape)"
      ]
    },
    {
      "cell_type": "code",
      "execution_count": 38,
      "metadata": {
        "colab": {
          "base_uri": "https://localhost:8080/",
          "height": 268
        },
        "id": "HRXeXeLufJWr",
        "outputId": "c164a23a-e27f-47cb-b0c3-7307b69b6393"
      },
      "outputs": [
        {
          "data": {
            "image/png": "[encoded data removed]",
            "text/plain": [
              "<Figure size 640x480 with 1 Axes>"
            ]
          },
          "metadata": {},
          "output_type": "display_data"
        }
      ],
      "source": [
        "fig,ax = plt.subplots()\n",
        "ax.imshow(fcmap)\n",
        "for i in range(11):\n",
        "  ax.text(18,2*i,str(i))\n",
        "  ax.scatter(20,2*i,s=40,color=cmap1(i))\n",
        "plt.show()"
      ]
    }
  ],
  "metadata": {
    "accelerator": "GPU",
    "colab": {
      "collapsed_sections": [],
      "name": "Convolutionalization.ipynb",
      "provenance": []
    },
    "kernelspec": {
      "display_name": "Python 3",
      "name": "python3"
    },
    "language_info": {
      "codemirror_mode": {
        "name": "ipython",
        "version": 3
      },
      "file_extension": ".py",
      "mimetype": "text/x-python",
      "name": "python",
      "nbconvert_exporter": "python",
      "pygments_lexer": "ipython3",
      "version": "3.10.6"
    }
  },
  "nbformat": 4,
  "nbformat_minor": 0
}
